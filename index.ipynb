{
 "cells": [
  {
   "cell_type": "markdown",
   "metadata": {},
   "source": [
    "# Modeling Our Data - Lab"
   ]
  },
  {
   "cell_type": "markdown",
   "metadata": {},
   "source": [
    "## Introduction \n",
    "\n",
    "In this lab we'll perform a full linear regression on our data. We'll take a stepwise approach and we'll try to improve our model as we go."
   ]
  },
  {
   "cell_type": "markdown",
   "metadata": {},
   "source": [
    "## Objectives\n",
    "You will be able to:\n",
    "\n",
    "* Remove predictors with p-values too high and refit the model\n",
    "* Examine and interpret the model results\n",
    "* Split data into training and testing sets\n",
    "* Fit a regression model to the data set using statsmodel library\n"
   ]
  },
  {
   "cell_type": "markdown",
   "metadata": {},
   "source": [
    "## Build single linear regression models\n",
    "\n",
    "From the previous steps, it is pretty clear that we have quite a few predictors, but there are some issues with them. Linearity with the target \"Weekly_Sales\" wasn't apparent. If that's the case, it's always smart to start small, and go ahead and build linear regression models with just one input at the time. Somewhat like what we've done in section 10, let's look at some statistics for single linear regression models for all our *continuous* variables with the outcome.\n",
    "\n",
    "**Note: for now, we will not use holdout validation, as we're just trying to gauge interpretation and a sense of predictive capacity for each of the candidate predictors**"
   ]
  },
  {
   "cell_type": "markdown",
   "metadata": {},
   "source": [
    "### Load the cleaned dataset \"walmart_dataset.csv\", and check its contents "
   ]
  },
  {
   "cell_type": "code",
   "execution_count": 1,
   "metadata": {},
   "outputs": [],
   "source": [
    "import pandas as pd\n",
    "\n",
    "df = pd.read_csv('walmart_dataset_cleaned.csv')"
   ]
  },
  {
   "cell_type": "markdown",
   "metadata": {},
   "source": [
    "Let's pull up the info."
   ]
  },
  {
   "cell_type": "code",
   "execution_count": 2,
   "metadata": {},
   "outputs": [
    {
     "name": "stdout",
     "output_type": "stream",
     "text": [
      "<class 'pandas.core.frame.DataFrame'>\n",
      "RangeIndex: 97839 entries, 0 to 97838\n",
      "Columns: 127 entries, Weekly_Sales to binned_markdown_5_NaN\n",
      "dtypes: bool(1), float64(6), int64(120)\n",
      "memory usage: 94.1 MB\n"
     ]
    }
   ],
   "source": [
    "df.info()"
   ]
  },
  {
   "cell_type": "markdown",
   "metadata": {},
   "source": [
    "Note that the output for info is much smaller compared to what we usually see. Because we have so many columns, pandas is intentionally not showing the data types for each column. Let's use `info()` again, but now just on the first 15 columns of the data."
   ]
  },
  {
   "cell_type": "code",
   "execution_count": 3,
   "metadata": {},
   "outputs": [
    {
     "name": "stdout",
     "output_type": "stream",
     "text": [
      "<class 'pandas.core.frame.DataFrame'>\n",
      "RangeIndex: 97839 entries, 0 to 97838\n",
      "Data columns (total 15 columns):\n",
      "Weekly_Sales    97839 non-null float64\n",
      "IsHoliday       97839 non-null bool\n",
      "Size            97839 non-null float64\n",
      "Temperature     97839 non-null float64\n",
      "Fuel_Price      97839 non-null float64\n",
      "CPI             97839 non-null float64\n",
      "Unemployment    97839 non-null float64\n",
      "Store_1         97839 non-null int64\n",
      "Store_10        97839 non-null int64\n",
      "Store_2         97839 non-null int64\n",
      "Store_3         97839 non-null int64\n",
      "Store_4         97839 non-null int64\n",
      "Store_5         97839 non-null int64\n",
      "Store_6         97839 non-null int64\n",
      "Store_7         97839 non-null int64\n",
      "dtypes: bool(1), float64(6), int64(8)\n",
      "memory usage: 10.5 MB\n"
     ]
    }
   ],
   "source": [
    "df.iloc[:,:15].info()"
   ]
  },
  {
   "cell_type": "markdown",
   "metadata": {},
   "source": [
    "Remember that all the columns from store_1 onwards are actually dummies, so categorical variables. Because we stored the data and loaded it in again, this information was lost. Let's make sure they become categorical again. You can write a for-loop to do this."
   ]
  },
  {
   "cell_type": "code",
   "execution_count": 4,
   "metadata": {},
   "outputs": [],
   "source": [
    "for i in range(7, len(df.columns)):\n",
    "    df[df.columns[i]] = df[df.columns[i]].astype('category')"
   ]
  },
  {
   "cell_type": "markdown",
   "metadata": {},
   "source": [
    "Let's make sure IsHoliday is a categorical variable as well."
   ]
  },
  {
   "cell_type": "code",
   "execution_count": 5,
   "metadata": {},
   "outputs": [],
   "source": [
    "df['IsHoliday'] = df['IsHoliday'].astype('category')"
   ]
  },
  {
   "cell_type": "markdown",
   "metadata": {},
   "source": [
    "Let's check the info again to make sure everything is OK now."
   ]
  },
  {
   "cell_type": "code",
   "execution_count": 6,
   "metadata": {},
   "outputs": [
    {
     "name": "stdout",
     "output_type": "stream",
     "text": [
      "<class 'pandas.core.frame.DataFrame'>\n",
      "RangeIndex: 97839 entries, 0 to 97838\n",
      "Columns: 127 entries, Weekly_Sales to binned_markdown_5_NaN\n",
      "dtypes: category(121), float64(6)\n",
      "memory usage: 15.8 MB\n"
     ]
    }
   ],
   "source": [
    "df.info()"
   ]
  },
  {
   "cell_type": "markdown",
   "metadata": {},
   "source": [
    "Great! you should see that the datatypes have changed to categories now! If you use `.describe` now, you should see only the remaining continuous variables in the data set."
   ]
  },
  {
   "cell_type": "code",
   "execution_count": 7,
   "metadata": {},
   "outputs": [
    {
     "data": {
      "text/html": [
       "<div>\n",
       "<style scoped>\n",
       "    .dataframe tbody tr th:only-of-type {\n",
       "        vertical-align: middle;\n",
       "    }\n",
       "\n",
       "    .dataframe tbody tr th {\n",
       "        vertical-align: top;\n",
       "    }\n",
       "\n",
       "    .dataframe thead th {\n",
       "        text-align: right;\n",
       "    }\n",
       "</style>\n",
       "<table border=\"1\" class=\"dataframe\">\n",
       "  <thead>\n",
       "    <tr style=\"text-align: right;\">\n",
       "      <th></th>\n",
       "      <th>Weekly_Sales</th>\n",
       "      <th>Size</th>\n",
       "      <th>Temperature</th>\n",
       "      <th>Fuel_Price</th>\n",
       "      <th>CPI</th>\n",
       "      <th>Unemployment</th>\n",
       "    </tr>\n",
       "  </thead>\n",
       "  <tbody>\n",
       "    <tr>\n",
       "      <th>count</th>\n",
       "      <td>97839.000000</td>\n",
       "      <td>9.783900e+04</td>\n",
       "      <td>9.783900e+04</td>\n",
       "      <td>9.783900e+04</td>\n",
       "      <td>9.783900e+04</td>\n",
       "      <td>9.783900e+04</td>\n",
       "    </tr>\n",
       "    <tr>\n",
       "      <th>mean</th>\n",
       "      <td>17223.235591</td>\n",
       "      <td>1.092260e-16</td>\n",
       "      <td>2.442107e-13</td>\n",
       "      <td>4.830299e-13</td>\n",
       "      <td>-1.535671e-14</td>\n",
       "      <td>1.793500e-12</td>\n",
       "    </tr>\n",
       "    <tr>\n",
       "      <th>std</th>\n",
       "      <td>25288.572553</td>\n",
       "      <td>1.000000e+00</td>\n",
       "      <td>1.000000e+00</td>\n",
       "      <td>1.000000e+00</td>\n",
       "      <td>1.000000e+00</td>\n",
       "      <td>1.000000e+00</td>\n",
       "    </tr>\n",
       "    <tr>\n",
       "      <th>min</th>\n",
       "      <td>-1098.000000</td>\n",
       "      <td>-1.611999e+00</td>\n",
       "      <td>-3.843452e+00</td>\n",
       "      <td>-1.691961e+00</td>\n",
       "      <td>-1.958762e+00</td>\n",
       "      <td>-2.776898e+00</td>\n",
       "    </tr>\n",
       "    <tr>\n",
       "      <th>25%</th>\n",
       "      <td>2336.485000</td>\n",
       "      <td>-1.028620e+00</td>\n",
       "      <td>-7.087592e-01</td>\n",
       "      <td>-1.053793e+00</td>\n",
       "      <td>-1.266966e-01</td>\n",
       "      <td>-6.503157e-01</td>\n",
       "    </tr>\n",
       "    <tr>\n",
       "      <th>50%</th>\n",
       "      <td>7658.280000</td>\n",
       "      <td>2.834360e-01</td>\n",
       "      <td>1.340726e-01</td>\n",
       "      <td>1.180741e-01</td>\n",
       "      <td>4.995210e-01</td>\n",
       "      <td>-4.621274e-02</td>\n",
       "    </tr>\n",
       "    <tr>\n",
       "      <th>75%</th>\n",
       "      <td>20851.275000</td>\n",
       "      <td>1.113495e+00</td>\n",
       "      <td>8.680410e-01</td>\n",
       "      <td>8.243739e-01</td>\n",
       "      <td>6.346144e-01</td>\n",
       "      <td>7.089160e-01</td>\n",
       "    </tr>\n",
       "    <tr>\n",
       "      <th>max</th>\n",
       "      <td>693099.360000</td>\n",
       "      <td>1.171380e+00</td>\n",
       "      <td>1.738375e+00</td>\n",
       "      <td>2.745691e+00</td>\n",
       "      <td>8.517705e-01</td>\n",
       "      <td>2.361469e+00</td>\n",
       "    </tr>\n",
       "  </tbody>\n",
       "</table>\n",
       "</div>"
      ],
      "text/plain": [
       "        Weekly_Sales          Size   Temperature    Fuel_Price           CPI  \\\n",
       "count   97839.000000  9.783900e+04  9.783900e+04  9.783900e+04  9.783900e+04   \n",
       "mean    17223.235591  1.092260e-16  2.442107e-13  4.830299e-13 -1.535671e-14   \n",
       "std     25288.572553  1.000000e+00  1.000000e+00  1.000000e+00  1.000000e+00   \n",
       "min     -1098.000000 -1.611999e+00 -3.843452e+00 -1.691961e+00 -1.958762e+00   \n",
       "25%      2336.485000 -1.028620e+00 -7.087592e-01 -1.053793e+00 -1.266966e-01   \n",
       "50%      7658.280000  2.834360e-01  1.340726e-01  1.180741e-01  4.995210e-01   \n",
       "75%     20851.275000  1.113495e+00  8.680410e-01  8.243739e-01  6.346144e-01   \n",
       "max    693099.360000  1.171380e+00  1.738375e+00  2.745691e+00  8.517705e-01   \n",
       "\n",
       "       Unemployment  \n",
       "count  9.783900e+04  \n",
       "mean   1.793500e-12  \n",
       "std    1.000000e+00  \n",
       "min   -2.776898e+00  \n",
       "25%   -6.503157e-01  \n",
       "50%   -4.621274e-02  \n",
       "75%    7.089160e-01  \n",
       "max    2.361469e+00  "
      ]
     },
     "execution_count": 7,
     "metadata": {},
     "output_type": "execute_result"
    }
   ],
   "source": [
    "df.describe()"
   ]
  },
  {
   "cell_type": "markdown",
   "metadata": {},
   "source": [
    "### Use a for-loop to look at some results for each linear regression model "
   ]
  },
  {
   "cell_type": "markdown",
   "metadata": {},
   "source": [
    "Let's use ordinary least squares in statsmodels at this stage.\n",
    "Import `statsmodels.formula.api` to get started"
   ]
  },
  {
   "cell_type": "code",
   "execution_count": 8,
   "metadata": {},
   "outputs": [
    {
     "name": "stdout",
     "output_type": "stream",
     "text": [
      "Collecting statsmodels\n",
      "\u001b[?25l  Downloading https://files.pythonhosted.org/packages/85/d1/69ee7e757f657e7f527cbf500ec2d295396e5bcec873cf4eb68962c41024/statsmodels-0.9.0-cp36-cp36m-manylinux1_x86_64.whl (7.4MB)\n",
      "\u001b[K    100% |████████████████████████████████| 7.4MB 427kB/s eta 0:00:01\n",
      "\u001b[?25hCollecting patsy (from statsmodels)\n",
      "\u001b[?25l  Downloading https://files.pythonhosted.org/packages/ea/0c/5f61f1a3d4385d6bf83b83ea495068857ff8dfb89e74824c6e9eb63286d8/patsy-0.5.1-py2.py3-none-any.whl (231kB)\n",
      "\u001b[K    100% |████████████████████████████████| 235kB 32.6MB/s ta 0:00:01\n",
      "\u001b[?25hRequirement already satisfied: pandas in /opt/conda/envs/learn-env/lib/python3.6/site-packages (from statsmodels) (0.23.4)\n",
      "Requirement already satisfied: numpy>=1.4 in /opt/conda/envs/learn-env/lib/python3.6/site-packages (from patsy->statsmodels) (1.15.0)\n",
      "Requirement already satisfied: six in /opt/conda/envs/learn-env/lib/python3.6/site-packages (from patsy->statsmodels) (1.11.0)\n",
      "Requirement already satisfied: python-dateutil>=2.5.0 in /opt/conda/envs/learn-env/lib/python3.6/site-packages (from pandas->statsmodels) (2.7.5)\n",
      "Requirement already satisfied: pytz>=2011k in /opt/conda/envs/learn-env/lib/python3.6/site-packages (from pandas->statsmodels) (2018.5)\n",
      "Installing collected packages: patsy, statsmodels\n",
      "Successfully installed patsy-0.5.1 statsmodels-0.9.0\n",
      "\u001b[33mYou are using pip version 10.0.1, however version 18.1 is available.\n",
      "You should consider upgrading via the 'pip install --upgrade pip' command.\u001b[0m\n"
     ]
    }
   ],
   "source": [
    "!pip install statsmodels"
   ]
  },
  {
   "cell_type": "code",
   "execution_count": 9,
   "metadata": {},
   "outputs": [],
   "source": [
    "import statsmodels.formula.api as smf"
   ]
  },
  {
   "cell_type": "markdown",
   "metadata": {},
   "source": [
    "Create a loop that for each iteration:\n",
    "* Runs a simple OLS regression between (continuous) independent and dependent variables\n",
    "* Store following values in array for each iteration\n",
    "    * Target variable\n",
    "    * R_squared\n",
    "    * intercept\n",
    "    * slope\n",
    "    * p-value\n",
    "* Comment on each output "
   ]
  },
  {
   "cell_type": "code",
   "execution_count": 10,
   "metadata": {},
   "outputs": [],
   "source": [
    "clist = ['Size','Temperature','Fuel_Price','CPI','Unemployment']"
   ]
  },
  {
   "cell_type": "code",
   "execution_count": 11,
   "metadata": {},
   "outputs": [
    {
     "name": "stdout",
     "output_type": "stream",
     "text": [
      "                            OLS Regression Results                            \n",
      "==============================================================================\n",
      "Dep. Variable:           Weekly_Sales   R-squared:                       0.086\n",
      "Model:                            OLS   Adj. R-squared:                  0.086\n",
      "Method:                 Least Squares   F-statistic:                     9179.\n",
      "Date:                Fri, 09 Nov 2018   Prob (F-statistic):               0.00\n",
      "Time:                        09:51:36   Log-Likelihood:            -1.1263e+06\n",
      "No. Observations:               97839   AIC:                         2.253e+06\n",
      "Df Residuals:                   97837   BIC:                         2.253e+06\n",
      "Df Model:                           1                                         \n",
      "Covariance Type:            nonrobust                                         \n",
      "==============================================================================\n",
      "                 coef    std err          t      P>|t|      [0.025      0.975]\n",
      "------------------------------------------------------------------------------\n",
      "Intercept   1.722e+04     77.303    222.801      0.000    1.71e+04    1.74e+04\n",
      "Size        7406.2274     77.304     95.807      0.000    7254.713    7557.742\n",
      "==============================================================================\n",
      "Omnibus:                    73367.616   Durbin-Watson:                   1.245\n",
      "Prob(Omnibus):                  0.000   Jarque-Bera (JB):          2588044.771\n",
      "Skew:                           3.266   Prob(JB):                         0.00\n",
      "Kurtosis:                      27.335   Cond. No.                         1.00\n",
      "==============================================================================\n",
      "\n",
      "Warnings:\n",
      "[1] Standard Errors assume that the covariance matrix of the errors is correctly specified.\n",
      "                            OLS Regression Results                            \n",
      "==============================================================================\n",
      "Dep. Variable:           Weekly_Sales   R-squared:                       0.001\n",
      "Model:                            OLS   Adj. R-squared:                  0.001\n",
      "Method:                 Least Squares   F-statistic:                     99.36\n",
      "Date:                Fri, 09 Nov 2018   Prob (F-statistic):           2.16e-23\n",
      "Time:                        09:51:37   Log-Likelihood:            -1.1307e+06\n",
      "No. Observations:               97839   AIC:                         2.261e+06\n",
      "Df Residuals:                   97837   BIC:                         2.261e+06\n",
      "Df Model:                           1                                         \n",
      "Covariance Type:            nonrobust                                         \n",
      "===============================================================================\n",
      "                  coef    std err          t      P>|t|      [0.025      0.975]\n",
      "-------------------------------------------------------------------------------\n",
      "Intercept    1.722e+04     80.807    213.140      0.000    1.71e+04    1.74e+04\n",
      "Temperature   805.4832     80.808      9.968      0.000     647.101     963.865\n",
      "==============================================================================\n",
      "Omnibus:                    72432.457   Durbin-Watson:                   1.139\n",
      "Prob(Omnibus):                  0.000   Jarque-Bera (JB):          2129652.674\n",
      "Skew:                           3.273   Prob(JB):                         0.00\n",
      "Kurtosis:                      24.899   Cond. No.                         1.00\n",
      "==============================================================================\n",
      "\n",
      "Warnings:\n",
      "[1] Standard Errors assume that the covariance matrix of the errors is correctly specified.\n",
      "                            OLS Regression Results                            \n",
      "==============================================================================\n",
      "Dep. Variable:           Weekly_Sales   R-squared:                       0.001\n",
      "Model:                            OLS   Adj. R-squared:                  0.001\n",
      "Method:                 Least Squares   F-statistic:                     78.62\n",
      "Date:                Fri, 09 Nov 2018   Prob (F-statistic):           7.65e-19\n",
      "Time:                        09:51:37   Log-Likelihood:            -1.1307e+06\n",
      "No. Observations:               97839   AIC:                         2.261e+06\n",
      "Df Residuals:                   97837   BIC:                         2.261e+06\n",
      "Df Model:                           1                                         \n",
      "Covariance Type:            nonrobust                                         \n",
      "==============================================================================\n",
      "                 coef    std err          t      P>|t|      [0.025      0.975]\n",
      "------------------------------------------------------------------------------\n",
      "Intercept   1.722e+04     80.816    213.117      0.000    1.71e+04    1.74e+04\n",
      "Fuel_Price   716.5821     80.816      8.867      0.000     558.183     874.981\n",
      "==============================================================================\n",
      "Omnibus:                    72364.655   Durbin-Watson:                   1.139\n",
      "Prob(Omnibus):                  0.000   Jarque-Bera (JB):          2116439.506\n",
      "Skew:                           3.270   Prob(JB):                         0.00\n",
      "Kurtosis:                      24.826   Cond. No.                         1.00\n",
      "==============================================================================\n",
      "\n",
      "Warnings:\n",
      "[1] Standard Errors assume that the covariance matrix of the errors is correctly specified.\n",
      "                            OLS Regression Results                            \n",
      "==============================================================================\n",
      "Dep. Variable:           Weekly_Sales   R-squared:                       0.039\n",
      "Model:                            OLS   Adj. R-squared:                  0.039\n",
      "Method:                 Least Squares   F-statistic:                     4014.\n",
      "Date:                Fri, 09 Nov 2018   Prob (F-statistic):               0.00\n",
      "Time:                        09:51:37   Log-Likelihood:            -1.1288e+06\n",
      "No. Observations:               97839   AIC:                         2.258e+06\n",
      "Df Residuals:                   97837   BIC:                         2.258e+06\n",
      "Df Model:                           1                                         \n",
      "Covariance Type:            nonrobust                                         \n",
      "==============================================================================\n",
      "                 coef    std err          t      P>|t|      [0.025      0.975]\n",
      "------------------------------------------------------------------------------\n",
      "Intercept   1.722e+04     79.239    217.358      0.000    1.71e+04    1.74e+04\n",
      "CPI        -5020.3081     79.239    -63.356      0.000   -5175.617   -4865.000\n",
      "==============================================================================\n",
      "Omnibus:                    71711.057   Durbin-Watson:                   1.185\n",
      "Prob(Omnibus):                  0.000   Jarque-Bera (JB):          2137430.510\n",
      "Skew:                           3.217   Prob(JB):                         0.00\n",
      "Kurtosis:                      24.975   Cond. No.                         1.00\n",
      "==============================================================================\n",
      "\n",
      "Warnings:\n",
      "[1] Standard Errors assume that the covariance matrix of the errors is correctly specified.\n",
      "                            OLS Regression Results                            \n",
      "==============================================================================\n",
      "Dep. Variable:           Weekly_Sales   R-squared:                       0.001\n",
      "Model:                            OLS   Adj. R-squared:                  0.001\n",
      "Method:                 Least Squares   F-statistic:                     83.40\n",
      "Date:                Fri, 09 Nov 2018   Prob (F-statistic):           6.83e-20\n",
      "Time:                        09:51:37   Log-Likelihood:            -1.1307e+06\n",
      "No. Observations:               97839   AIC:                         2.261e+06\n",
      "Df Residuals:                   97837   BIC:                         2.261e+06\n",
      "Df Model:                           1                                         \n",
      "Covariance Type:            nonrobust                                         \n",
      "================================================================================\n",
      "                   coef    std err          t      P>|t|      [0.025      0.975]\n",
      "--------------------------------------------------------------------------------\n",
      "Intercept     1.722e+04     80.814    213.122      0.000    1.71e+04    1.74e+04\n",
      "Unemployment   738.0241     80.814      9.132      0.000     579.629     896.419\n",
      "==============================================================================\n",
      "Omnibus:                    72301.355   Durbin-Watson:                   1.139\n",
      "Prob(Omnibus):                  0.000   Jarque-Bera (JB):          2105092.703\n",
      "Skew:                           3.267   Prob(JB):                         0.00\n",
      "Kurtosis:                      24.764   Cond. No.                         1.00\n",
      "==============================================================================\n",
      "\n",
      "Warnings:\n",
      "[1] Standard Errors assume that the covariance matrix of the errors is correctly specified.\n"
     ]
    }
   ],
   "source": [
    "for i in clist:\n",
    "    f = f'Weekly_Sales~{i}'\n",
    "    \n",
    "    model = smf.ols(formula=f, data=df).fit()\n",
    "    \n",
    "    x = i+'_ols'\n",
    "    vars()[x] = pd.Series(['Weekly_Sales', model.rsquared, model.params[0], model.params[1], model.pvalues[1]],\n",
    "                        ['Target variable', 'R_squared', 'intercept', 'slope', 'p-value'])\n",
    "    print(model.summary())"
   ]
  },
  {
   "cell_type": "markdown",
   "metadata": {},
   "source": [
    "Think about your results. \n",
    "- What do the parameter estimates mean? Do they make sense? \n",
    "- What do the p-values tell us?\n",
    "- What does the R-squared tell us?"
   ]
  },
  {
   "cell_type": "markdown",
   "metadata": {},
   "source": [
    "## Our R-squared values are low, let's try to solve this\n",
    "\n",
    "Something we haven't considered before, is taking log-transformations to make certain data less skewed. Let's take a quick look at our summarizing histograms. "
   ]
  },
  {
   "cell_type": "code",
   "execution_count": 12,
   "metadata": {},
   "outputs": [],
   "source": [
    "df.hist(figsize=(8,8));"
   ]
  },
  {
   "cell_type": "markdown",
   "metadata": {},
   "source": [
    "Interestingly the most problematic variable in terms of skewness seems to be weekly sales itself. Does it make sense to log-transform this variable? It definitely doesn't hurt to try! Let's have a look below. what do you see?"
   ]
  },
  {
   "cell_type": "code",
   "execution_count": 13,
   "metadata": {},
   "outputs": [],
   "source": [
    "import numpy as np"
   ]
  },
  {
   "cell_type": "markdown",
   "metadata": {},
   "source": [
    "That's right, we have some negative `Weekly_Sales` values! Let's check how many we have."
   ]
  },
  {
   "cell_type": "code",
   "execution_count": 14,
   "metadata": {},
   "outputs": [
    {
     "data": {
      "text/plain": [
       "224"
      ]
     },
     "execution_count": 14,
     "metadata": {},
     "output_type": "execute_result"
    }
   ],
   "source": [
    "df.Weekly_Sales.loc[df.Weekly_Sales <= 0].count()"
   ]
  },
  {
   "cell_type": "markdown",
   "metadata": {},
   "source": [
    "This seems negligibe considering we have almost 100,000 observations. Let's remove these 224 rows so we can take the log."
   ]
  },
  {
   "cell_type": "code",
   "execution_count": 15,
   "metadata": {},
   "outputs": [],
   "source": [
    "df = df.loc[df.Weekly_Sales > 0]"
   ]
  },
  {
   "cell_type": "code",
   "execution_count": 16,
   "metadata": {},
   "outputs": [
    {
     "data": {
      "image/png": "[encoded data removed]",
      "text/plain": [
       "<Figure size 432x288 with 1 Axes>"
      ]
     },
     "metadata": {
      "needs_background": "light"
     },
     "output_type": "display_data"
    }
   ],
   "source": [
    "logWS = np.log(df.Weekly_Sales)\n",
    "logWS.hist();"
   ]
  },
  {
   "cell_type": "markdown",
   "metadata": {},
   "source": [
    "Let's have another look at the histogram. What do you see?"
   ]
  },
  {
   "cell_type": "code",
   "execution_count": 17,
   "metadata": {},
   "outputs": [],
   "source": [
    "# The histogram appears much more normal than before."
   ]
  },
  {
   "cell_type": "markdown",
   "metadata": {},
   "source": [
    "Now let's repeat what we did before, yet now with the log(Weekly_Sales) as the target."
   ]
  },
  {
   "cell_type": "code",
   "execution_count": 18,
   "metadata": {},
   "outputs": [
    {
     "name": "stderr",
     "output_type": "stream",
     "text": [
      "/opt/conda/envs/learn-env/lib/python3.6/site-packages/ipykernel_launcher.py:1: SettingWithCopyWarning: \n",
      "A value is trying to be set on a copy of a slice from a DataFrame.\n",
      "Try using .loc[row_indexer,col_indexer] = value instead\n",
      "\n",
      "See the caveats in the documentation: http://pandas.pydata.org/pandas-docs/stable/indexing.html#indexing-view-versus-copy\n",
      "  \"\"\"Entry point for launching an IPython kernel.\n"
     ]
    },
    {
     "name": "stdout",
     "output_type": "stream",
     "text": [
      "                            OLS Regression Results                            \n",
      "==============================================================================\n",
      "Dep. Variable:                  logWS   R-squared:                       0.108\n",
      "Model:                            OLS   Adj. R-squared:                  0.108\n",
      "Method:                 Least Squares   F-statistic:                 1.180e+04\n",
      "Date:                Fri, 09 Nov 2018   Prob (F-statistic):               0.00\n",
      "Time:                        09:51:40   Log-Likelihood:            -1.9369e+05\n",
      "No. Observations:               97615   AIC:                         3.874e+05\n",
      "Df Residuals:                   97613   BIC:                         3.874e+05\n",
      "Df Model:                           1                                         \n",
      "Covariance Type:            nonrobust                                         \n",
      "==============================================================================\n",
      "                 coef    std err          t      P>|t|      [0.025      0.975]\n",
      "------------------------------------------------------------------------------\n",
      "Intercept      8.6715      0.006   1539.415      0.000       8.660       8.683\n",
      "Size           0.6116      0.006    108.606      0.000       0.601       0.623\n",
      "==============================================================================\n",
      "Omnibus:                    26938.499   Durbin-Watson:                   1.502\n",
      "Prob(Omnibus):                  0.000   Jarque-Bera (JB):            89467.111\n",
      "Skew:                          -1.394   Prob(JB):                         0.00\n",
      "Kurtosis:                       6.771   Cond. No.                         1.00\n",
      "==============================================================================\n",
      "\n",
      "Warnings:\n",
      "[1] Standard Errors assume that the covariance matrix of the errors is correctly specified.\n",
      "                            OLS Regression Results                            \n",
      "==============================================================================\n",
      "Dep. Variable:                  logWS   R-squared:                       0.001\n",
      "Model:                            OLS   Adj. R-squared:                  0.001\n",
      "Method:                 Least Squares   F-statistic:                     74.78\n",
      "Date:                Fri, 09 Nov 2018   Prob (F-statistic):           5.34e-18\n",
      "Time:                        09:51:40   Log-Likelihood:            -1.9922e+05\n",
      "No. Observations:               97615   AIC:                         3.984e+05\n",
      "Df Residuals:                   97613   BIC:                         3.985e+05\n",
      "Df Model:                           1                                         \n",
      "Covariance Type:            nonrobust                                         \n",
      "===============================================================================\n",
      "                  coef    std err          t      P>|t|      [0.025      0.975]\n",
      "-------------------------------------------------------------------------------\n",
      "Intercept       8.6716      0.006   1454.643      0.000       8.660       8.683\n",
      "Temperature     0.0516      0.006      8.648      0.000       0.040       0.063\n",
      "==============================================================================\n",
      "Omnibus:                    21992.577   Durbin-Watson:                   1.341\n",
      "Prob(Omnibus):                  0.000   Jarque-Bera (JB):            57261.774\n",
      "Skew:                          -1.224   Prob(JB):                         0.00\n",
      "Kurtosis:                       5.844   Cond. No.                         1.00\n",
      "==============================================================================\n",
      "\n",
      "Warnings:\n",
      "[1] Standard Errors assume that the covariance matrix of the errors is correctly specified.\n",
      "                            OLS Regression Results                            \n",
      "==============================================================================\n",
      "Dep. Variable:                  logWS   R-squared:                       0.000\n",
      "Model:                            OLS   Adj. R-squared:                  0.000\n",
      "Method:                 Least Squares   F-statistic:                     43.88\n",
      "Date:                Fri, 09 Nov 2018   Prob (F-statistic):           3.52e-11\n",
      "Time:                        09:51:40   Log-Likelihood:            -1.9923e+05\n",
      "No. Observations:               97615   AIC:                         3.985e+05\n",
      "Df Residuals:                   97613   BIC:                         3.985e+05\n",
      "Df Model:                           1                                         \n",
      "Covariance Type:            nonrobust                                         \n",
      "==============================================================================\n",
      "                 coef    std err          t      P>|t|      [0.025      0.975]\n",
      "------------------------------------------------------------------------------\n",
      "Intercept      8.6716      0.006   1454.415      0.000       8.660       8.683\n",
      "Fuel_Price     0.0395      0.006      6.624      0.000       0.028       0.051\n",
      "==============================================================================\n",
      "Omnibus:                    21952.199   Durbin-Watson:                   1.341\n",
      "Prob(Omnibus):                  0.000   Jarque-Bera (JB):            56978.744\n",
      "Skew:                          -1.223   Prob(JB):                         0.00\n",
      "Kurtosis:                       5.834   Cond. No.                         1.00\n",
      "==============================================================================\n",
      "\n",
      "Warnings:\n",
      "[1] Standard Errors assume that the covariance matrix of the errors is correctly specified.\n",
      "                            OLS Regression Results                            \n",
      "==============================================================================\n",
      "Dep. Variable:                  logWS   R-squared:                       0.026\n",
      "Model:                            OLS   Adj. R-squared:                  0.026\n",
      "Method:                 Least Squares   F-statistic:                     2600.\n",
      "Date:                Fri, 09 Nov 2018   Prob (F-statistic):               0.00\n",
      "Time:                        09:51:40   Log-Likelihood:            -1.9797e+05\n",
      "No. Observations:               97615   AIC:                         3.959e+05\n",
      "Df Residuals:                   97613   BIC:                         3.960e+05\n",
      "Df Model:                           1                                         \n",
      "Covariance Type:            nonrobust                                         \n",
      "==============================================================================\n",
      "                 coef    std err          t      P>|t|      [0.025      0.975]\n",
      "------------------------------------------------------------------------------\n",
      "Intercept      8.6717      0.006   1473.345      0.000       8.660       8.683\n",
      "CPI           -0.3002      0.006    -50.995      0.000      -0.312      -0.289\n",
      "==============================================================================\n",
      "Omnibus:                    23472.857   Durbin-Watson:                   1.376\n",
      "Prob(Omnibus):                  0.000   Jarque-Bera (JB):            65098.008\n",
      "Skew:                          -1.278   Prob(JB):                         0.00\n",
      "Kurtosis:                       6.077   Cond. No.                         1.00\n",
      "==============================================================================\n",
      "\n",
      "Warnings:\n",
      "[1] Standard Errors assume that the covariance matrix of the errors is correctly specified.\n",
      "                            OLS Regression Results                            \n",
      "==============================================================================\n",
      "Dep. Variable:                  logWS   R-squared:                       0.000\n",
      "Model:                            OLS   Adj. R-squared:                  0.000\n",
      "Method:                 Least Squares   F-statistic:                     27.04\n",
      "Date:                Fri, 09 Nov 2018   Prob (F-statistic):           1.99e-07\n",
      "Time:                        09:51:40   Log-Likelihood:            -1.9924e+05\n",
      "No. Observations:               97615   AIC:                         3.985e+05\n",
      "Df Residuals:                   97613   BIC:                         3.985e+05\n",
      "Df Model:                           1                                         \n",
      "Covariance Type:            nonrobust                                         \n",
      "================================================================================\n",
      "                   coef    std err          t      P>|t|      [0.025      0.975]\n",
      "--------------------------------------------------------------------------------\n",
      "Intercept        8.6716      0.006   1454.291      0.000       8.660       8.683\n",
      "Unemployment     0.0310      0.006      5.200      0.000       0.019       0.043\n",
      "==============================================================================\n",
      "Omnibus:                    21936.835   Durbin-Watson:                   1.340\n",
      "Prob(Omnibus):                  0.000   Jarque-Bera (JB):            56846.180\n",
      "Skew:                          -1.222   Prob(JB):                         0.00\n",
      "Kurtosis:                       5.828   Cond. No.                         1.00\n",
      "==============================================================================\n",
      "\n",
      "Warnings:\n",
      "[1] Standard Errors assume that the covariance matrix of the errors is correctly specified.\n"
     ]
    }
   ],
   "source": [
    "df['logWS'] = logWS\n",
    "for i in clist:\n",
    "    f = f'logWS~{i}'\n",
    "    \n",
    "    model = smf.ols(formula=f, data=df).fit()\n",
    "    \n",
    "    x = i+'_olslog'\n",
    "    vars()[x] = pd.Series(['logWeekly_Sales', model.rsquared, model.params[0], model.params[1], model.pvalues[1]],\n",
    "                        ['Target variable', 'R_squared', 'intercept', 'slope', 'p-value'])\n",
    "    print(model.summary())"
   ]
  },
  {
   "cell_type": "code",
   "execution_count": 19,
   "metadata": {
    "scrolled": true
   },
   "outputs": [
    {
     "name": "stdout",
     "output_type": "stream",
     "text": [
      "Target variable    Weekly_Sales\n",
      "R_squared              0.085772\n",
      "intercept               17223.2\n",
      "slope                   7406.23\n",
      "p-value                       0\n",
      "dtype: object\n",
      "Target variable    logWeekly_Sales\n",
      "R_squared                  0.10781\n",
      "intercept                  8.67149\n",
      "slope                     0.611619\n",
      "p-value                          0\n",
      "dtype: object\n"
     ]
    }
   ],
   "source": [
    "print(Size_ols)\n",
    "print(Size_olslog)"
   ]
  },
  {
   "cell_type": "code",
   "execution_count": 20,
   "metadata": {},
   "outputs": [
    {
     "name": "stdout",
     "output_type": "stream",
     "text": [
      "Target variable    Weekly_Sales\n",
      "R_squared            0.00101453\n",
      "intercept               17223.2\n",
      "slope                   805.483\n",
      "p-value             2.16099e-23\n",
      "dtype: object\n",
      "Target variable    logWeekly_Sales\n",
      "R_squared                0.0007655\n",
      "intercept                   8.6716\n",
      "slope                    0.0515691\n",
      "p-value                5.34002e-18\n",
      "dtype: object\n"
     ]
    }
   ],
   "source": [
    "print(Temperature_ols)\n",
    "print(Temperature_olslog)"
   ]
  },
  {
   "cell_type": "code",
   "execution_count": 21,
   "metadata": {},
   "outputs": [
    {
     "name": "stdout",
     "output_type": "stream",
     "text": [
      "Target variable    Weekly_Sales\n",
      "R_squared            0.00080294\n",
      "intercept               17223.2\n",
      "slope                   716.582\n",
      "p-value             7.64961e-19\n",
      "dtype: object\n",
      "Target variable    logWeekly_Sales\n",
      "R_squared              0.000449281\n",
      "intercept                  8.67161\n",
      "slope                    0.0394923\n",
      "p-value                3.51766e-11\n",
      "dtype: object\n"
     ]
    }
   ],
   "source": [
    "print(Fuel_Price_ols)\n",
    "print(Fuel_Price_olslog)"
   ]
  },
  {
   "cell_type": "code",
   "execution_count": 22,
   "metadata": {},
   "outputs": [
    {
     "name": "stdout",
     "output_type": "stream",
     "text": [
      "Target variable    Weekly_Sales\n",
      "R_squared             0.0394105\n",
      "intercept               17223.2\n",
      "slope                  -5020.31\n",
      "p-value                       0\n",
      "dtype: object\n",
      "Target variable    logWeekly_Sales\n",
      "R_squared                0.0259491\n",
      "intercept                   8.6717\n",
      "slope                    -0.300207\n",
      "p-value                          0\n",
      "dtype: object\n"
     ]
    }
   ],
   "source": [
    "print(CPI_ols)\n",
    "print(CPI_olslog)"
   ]
  },
  {
   "cell_type": "code",
   "execution_count": 23,
   "metadata": {},
   "outputs": [
    {
     "name": "stdout",
     "output_type": "stream",
     "text": [
      "Target variable    Weekly_Sales\n",
      "R_squared           0.000851711\n",
      "intercept               17223.2\n",
      "slope                   738.024\n",
      "p-value             6.82546e-20\n",
      "dtype: object\n",
      "Target variable    logWeekly_Sales\n",
      "R_squared              0.000276961\n",
      "intercept                  8.67162\n",
      "slope                    0.0310137\n",
      "p-value                1.99438e-07\n",
      "dtype: object\n"
     ]
    }
   ],
   "source": [
    "print(Unemployment_ols)\n",
    "print(Unemployment_olslog)"
   ]
  },
  {
   "cell_type": "markdown",
   "metadata": {},
   "source": [
    "- compare and contract the results with the results obtained when we did not take the log(sales)\n",
    "- Which one would you want to proceed with based on this?"
   ]
  },
  {
   "cell_type": "markdown",
   "metadata": {},
   "source": [
    "## Build a model with each categorical variable as a predictor"
   ]
  },
  {
   "cell_type": "markdown",
   "metadata": {},
   "source": [
    "- Use it on the log-transformed, and the regular `Weekly_Sales`\n",
    "- put all categories for one categorical variable in 1 model, so we want 4 models.\n",
    "- remember that we have 4 categorical variables: `Store`,  `Dept`, `IsHoliday` and `Type`( we're for now ignoring the `binned_markdown` categories, you can add then later on as an extension)\n",
    "- IMPORTANT: remember that we made dummies for `Type`, `Dept` and `Store` columns. You'll need to drop 1 column for each of these if you want good results. The reason for this is that singularity will occur and . This is related to what we mentioned earlier on in section 11. Don't worry about the \"why\" for now, just make sure to drop 1 column and you should be fine! The parameter value for the dropper \"base category\" will be absorbed in the intercept."
   ]
  },
  {
   "cell_type": "code",
   "execution_count": 85,
   "metadata": {},
   "outputs": [],
   "source": [
    "storelist = []\n",
    "deptlist = []\n",
    "isholidaylist = df.columns[1]\n",
    "typelist = []\n",
    "for i in df.columns:\n",
    "    if i.startswith('Store') == True:\n",
    "        storelist.append(i)\n",
    "    elif i.startswith('Dept') == True:\n",
    "        deptlist.append(i)\n",
    "    elif i.startswith('Type') == True:\n",
    "        typelist.append(i)\n",
    "storelist.pop()\n",
    "deptlist.pop()\n",
    "typelist.pop()\n",
    "\n",
    "storelistf = '+'.join(storelist)\n",
    "deptlistf = '+'.join(deptlist)\n",
    "typelistf = '+'.join(typelist)\n",
    "catlist = [storelistf, deptlistf, isholidaylist, typelistf]"
   ]
  },
  {
   "cell_type": "code",
   "execution_count": 78,
   "metadata": {},
   "outputs": [
    {
     "name": "stdout",
     "output_type": "stream",
     "text": [
      "                            OLS Regression Results                            \n",
      "==============================================================================\n",
      "Dep. Variable:           Weekly_Sales   R-squared:                       0.123\n",
      "Model:                            OLS   Adj. R-squared:                  0.123\n",
      "Method:                 Least Squares   F-statistic:                     1522.\n",
      "Date:                Fri, 09 Nov 2018   Prob (F-statistic):               0.00\n",
      "Time:                        10:40:52   Log-Likelihood:            -1.1218e+06\n",
      "No. Observations:               97615   AIC:                         2.244e+06\n",
      "Df Residuals:                   97605   BIC:                         2.244e+06\n",
      "Df Model:                           9                                         \n",
      "Covariance Type:            nonrobust                                         \n",
      "=================================================================================\n",
      "                    coef    std err          t      P>|t|      [0.025      0.975]\n",
      "---------------------------------------------------------------------------------\n",
      "Intercept      8805.8824    252.124     34.927      0.000    8311.722    9300.043\n",
      "Store_1[T.1]   1.294e+04    344.210     37.603      0.000    1.23e+04    1.36e+04\n",
      "Store_10[T.1]  1.767e+04    343.945     51.369      0.000     1.7e+04    1.83e+04\n",
      "Store_2[T.1]   1.816e+04    344.303     52.732      0.000    1.75e+04    1.88e+04\n",
      "Store_3[T.1]  -2425.6558    354.656     -6.839      0.000   -3120.778   -1730.534\n",
      "Store_4[T.1]   2.037e+04    343.891     59.233      0.000    1.97e+04     2.1e+04\n",
      "Store_5[T.1]  -3740.5984    355.125    -10.533      0.000   -4436.639   -3044.558\n",
      "Store_6[T.1]   1.315e+04    344.499     38.186      0.000    1.25e+04    1.38e+04\n",
      "Store_7[T.1]   -426.3901    348.184     -1.225      0.221   -1108.827     256.047\n",
      "Store_8[T.1]   4343.1118    346.967     12.517      0.000    3663.060    5023.163\n",
      "==============================================================================\n",
      "Omnibus:                    71707.896   Durbin-Watson:                   1.298\n",
      "Prob(Omnibus):                  0.000   Jarque-Bera (JB):          2569497.337\n",
      "Skew:                           3.157   Prob(JB):                         0.00\n",
      "Kurtosis:                      27.329   Cond. No.                         11.4\n",
      "==============================================================================\n",
      "\n",
      "Warnings:\n",
      "[1] Standard Errors assume that the covariance matrix of the errors is correctly specified.\n",
      "                            OLS Regression Results                            \n",
      "==============================================================================\n",
      "Dep. Variable:           Weekly_Sales   R-squared:                       0.503\n",
      "Model:                            OLS   Adj. R-squared:                  0.502\n",
      "Method:                 Least Squares   F-statistic:                     1265.\n",
      "Date:                Fri, 09 Nov 2018   Prob (F-statistic):               0.00\n",
      "Time:                        10:41:00   Log-Likelihood:            -1.0941e+06\n",
      "No. Observations:               97615   AIC:                         2.188e+06\n",
      "Df Residuals:                   97536   BIC:                         2.189e+06\n",
      "Df Model:                          78                                         \n",
      "Covariance Type:            nonrobust                                         \n",
      "================================================================================\n",
      "                   coef    std err          t      P>|t|      [0.025      0.975]\n",
      "--------------------------------------------------------------------------------\n",
      "Intercept      431.3373   1281.474      0.337      0.736   -2080.337    2943.011\n",
      "Dept_1[T.1]    2.03e+04   1365.635     14.867      0.000    1.76e+04     2.3e+04\n",
      "Dept_10[T.1]  2.736e+04   1365.635     20.038      0.000    2.47e+04       3e+04\n",
      "Dept_11[T.1]  1.908e+04   1365.635     13.972      0.000    1.64e+04    2.18e+04\n",
      "Dept_12[T.1]  6222.9237   1365.635      4.557      0.000    3546.294    8899.553\n",
      "Dept_13[T.1]  3.356e+04   1365.635     24.571      0.000    3.09e+04    3.62e+04\n",
      "Dept_14[T.1]   1.63e+04   1365.635     11.939      0.000    1.36e+04     1.9e+04\n",
      "Dept_16[T.1]  1.845e+04   1365.635     13.509      0.000    1.58e+04    2.11e+04\n",
      "Dept_17[T.1]   1.01e+04   1365.635      7.399      0.000    7427.204    1.28e+04\n",
      "Dept_18[T.1]  8078.6273   1391.819      5.804      0.000    5350.679    1.08e+04\n",
      "Dept_19[T.1]  1567.4807   1377.479      1.138      0.255   -1132.363    4267.324\n",
      "Dept_2[T.1]   4.739e+04   1365.635     34.699      0.000    4.47e+04    5.01e+04\n",
      "Dept_20[T.1]  5163.6415   1365.635      3.781      0.000    2487.012    7840.271\n",
      "Dept_21[T.1]  5409.5299   1365.635      3.961      0.000    2732.900    8086.159\n",
      "Dept_22[T.1]  1.028e+04   1365.635      7.530      0.000    7606.360     1.3e+04\n",
      "Dept_23[T.1]  2.459e+04   1365.635     18.004      0.000    2.19e+04    2.73e+04\n",
      "Dept_24[T.1]  5673.4257   1365.635      4.154      0.000    2996.796    8350.055\n",
      "Dept_25[T.1]  9587.0648   1365.635      7.020      0.000    6910.435    1.23e+04\n",
      "Dept_26[T.1]  7329.7879   1365.635      5.367      0.000    4653.158       1e+04\n",
      "Dept_27[T.1]  1078.8302   1365.635      0.790      0.430   -1597.799    3755.460\n",
      "Dept_28[T.1]   102.4398   1365.635      0.075      0.940   -2574.190    2779.069\n",
      "Dept_29[T.1]  4854.2609   1365.635      3.555      0.000    2177.632    7530.890\n",
      "Dept_3[T.1]   1.306e+04   1365.635      9.567      0.000    1.04e+04    1.57e+04\n",
      "Dept_30[T.1]  3541.8062   1365.635      2.594      0.010     865.177    6218.436\n",
      "Dept_31[T.1]  2101.3652   1365.635      1.539      0.124    -575.264    4777.995\n",
      "Dept_32[T.1]  8473.0120   1365.692      6.204      0.000    5796.271    1.11e+04\n",
      "Dept_33[T.1]  5834.4194   1365.635      4.272      0.000    3157.790    8511.049\n",
      "Dept_34[T.1]  1.388e+04   1365.635     10.161      0.000    1.12e+04    1.66e+04\n",
      "Dept_35[T.1]  2497.4479   1365.692      1.829      0.067    -179.293    5174.189\n",
      "Dept_36[T.1]  1485.2765   1365.922      1.087      0.277   -1191.914    4162.467\n",
      "Dept_37[T.1]  3093.6909   1418.973      2.180      0.029     312.521    5874.861\n",
      "Dept_38[T.1]  7.396e+04   1365.635     54.155      0.000    7.13e+04    7.66e+04\n",
      "Dept_39[T.1]  -429.1533   8084.465     -0.053      0.958   -1.63e+04    1.54e+04\n",
      "Dept_4[T.1]   2.891e+04   1365.635     21.172      0.000    2.62e+04    3.16e+04\n",
      "Dept_40[T.1]  5.131e+04   1365.635     37.574      0.000    4.86e+04     5.4e+04\n",
      "Dept_41[T.1]  1876.8782   1365.635      1.374      0.169    -799.751    4553.508\n",
      "Dept_42[T.1]  6510.3975   1365.635      4.767      0.000    3833.768    9187.027\n",
      "Dept_44[T.1]  4394.7593   1365.635      3.218      0.001    1718.130    7071.389\n",
      "Dept_45[T.1]  -405.7365   1500.440     -0.270      0.787   -3346.580    2535.108\n",
      "Dept_46[T.1]  2.182e+04   1365.635     15.976      0.000    1.91e+04    2.45e+04\n",
      "Dept_47[T.1]  -279.2666   2183.009     -0.128      0.898   -4557.939    3999.406\n",
      "Dept_48[T.1]  1194.1965   1422.411      0.840      0.401   -1593.713    3982.106\n",
      "Dept_49[T.1]  8409.1463   1389.045      6.054      0.000    5686.635    1.11e+04\n",
      "Dept_5[T.1]   2.604e+04   1365.635     19.067      0.000    2.34e+04    2.87e+04\n",
      "Dept_50[T.1]  3826.3230   1967.237      1.945      0.052     -29.439    7682.085\n",
      "Dept_51[T.1]  -411.3551   1794.245     -0.229      0.819   -3928.054    3105.344\n",
      "Dept_52[T.1]  2169.2487   1365.635      1.588      0.112    -507.381    4845.878\n",
      "Dept_54[T.1]  -323.0563   1379.449     -0.234      0.815   -3026.761    2380.649\n",
      "Dept_55[T.1]  1.101e+04   1365.635      8.065      0.000    8337.206    1.37e+04\n",
      "Dept_56[T.1]  3655.7740   1365.807      2.677      0.007     978.809    6332.740\n",
      "Dept_58[T.1]  5190.5691   1393.310      3.725      0.000    2459.697    7921.441\n",
      "Dept_59[T.1]   452.4510   1374.251      0.329      0.742   -2241.065    3145.966\n",
      "Dept_6[T.1]   4913.2359   1365.750      3.597      0.000    2236.383    7590.089\n",
      "Dept_60[T.1]   -94.7878   1373.699     -0.069      0.945   -2787.223    2597.647\n",
      "Dept_67[T.1]  7061.2917   1365.635      5.171      0.000    4384.662    9737.921\n",
      "Dept_7[T.1]   2.661e+04   1365.635     19.488      0.000    2.39e+04    2.93e+04\n",
      "Dept_71[T.1]  3990.1072   1365.635      2.922      0.003    1313.478    6666.737\n",
      "Dept_72[T.1]  5.894e+04   1365.635     43.156      0.000    5.63e+04    6.16e+04\n",
      "Dept_74[T.1]  1.419e+04   1365.635     10.389      0.000    1.15e+04    1.69e+04\n",
      "Dept_77[T.1]   118.7381   3727.644      0.032      0.975   -7187.401    7424.877\n",
      "Dept_78[T.1]  -420.3445   2980.382     -0.141      0.888   -6261.858    5421.169\n",
      "Dept_79[T.1]  2.285e+04   1365.635     16.736      0.000    2.02e+04    2.55e+04\n",
      "Dept_8[T.1]   3.713e+04   1365.635     27.186      0.000    3.44e+04    3.98e+04\n",
      "Dept_80[T.1]  1.156e+04   1397.061      8.272      0.000    8817.676    1.43e+04\n",
      "Dept_81[T.1]   1.39e+04   1365.635     10.181      0.000    1.12e+04    1.66e+04\n",
      "Dept_82[T.1]   1.59e+04   1365.635     11.640      0.000    1.32e+04    1.86e+04\n",
      "Dept_83[T.1]  3588.4037   1400.384      2.562      0.010     843.667    6333.141\n",
      "Dept_85[T.1]  1845.4836   1365.635      1.351      0.177    -831.146    4522.113\n",
      "Dept_87[T.1]  2.023e+04   1365.635     14.817      0.000    1.76e+04    2.29e+04\n",
      "Dept_9[T.1]    2.77e+04   1365.635     20.281      0.000     2.5e+04    3.04e+04\n",
      "Dept_90[T.1]  3.938e+04   1365.635     28.833      0.000    3.67e+04    4.21e+04\n",
      "Dept_91[T.1]  3.095e+04   1365.635     22.662      0.000    2.83e+04    3.36e+04\n",
      "Dept_92[T.1]  7.213e+04   1365.635     52.816      0.000    6.95e+04    7.48e+04\n",
      "Dept_93[T.1]  3.973e+04   1399.930     28.383      0.000     3.7e+04    4.25e+04\n",
      "Dept_94[T.1]  3.412e+04   1388.212     24.577      0.000    3.14e+04    3.68e+04\n",
      "Dept_95[T.1]  7.317e+04   1365.635     53.576      0.000    7.05e+04    7.58e+04\n",
      "Dept_96[T.1]  1.728e+04   1375.945     12.561      0.000    1.46e+04       2e+04\n",
      "Dept_97[T.1]  1.789e+04   1375.445     13.009      0.000    1.52e+04    2.06e+04\n",
      "Dept_98[T.1]  7592.4804   1396.739      5.436      0.000    4854.889    1.03e+04\n",
      "==============================================================================\n",
      "Omnibus:                    71167.635   Durbin-Watson:                   0.888\n",
      "Prob(Omnibus):                  0.000   Jarque-Bera (JB):          8893935.562\n",
      "Skew:                           2.695   Prob(JB):                         0.00\n",
      "Kurtosis:                      49.450   Cond. No.                         202.\n",
      "==============================================================================\n",
      "\n",
      "Warnings:\n",
      "[1] Standard Errors assume that the covariance matrix of the errors is correctly specified.\n",
      "                            OLS Regression Results                            \n",
      "==============================================================================\n",
      "Dep. Variable:           Weekly_Sales   R-squared:                       0.000\n",
      "Model:                            OLS   Adj. R-squared:                  0.000\n",
      "Method:                 Least Squares   F-statistic:                     21.34\n",
      "Date:                Fri, 09 Nov 2018   Prob (F-statistic):           3.86e-06\n",
      "Time:                        10:41:00   Log-Likelihood:            -1.1282e+06\n",
      "No. Observations:               97615   AIC:                         2.256e+06\n",
      "Df Residuals:                   97613   BIC:                         2.256e+06\n",
      "Df Model:                           1                                         \n",
      "Covariance Type:            nonrobust                                         \n",
      "=====================================================================================\n",
      "                        coef    std err          t      P>|t|      [0.025      0.975]\n",
      "-------------------------------------------------------------------------------------\n",
      "Intercept          1.716e+04     83.997    204.293      0.000     1.7e+04    1.73e+04\n",
      "IsHoliday[T.True]  1461.1823    316.324      4.619      0.000     841.191    2081.173\n",
      "==============================================================================\n",
      "Omnibus:                    72027.065   Durbin-Watson:                   1.139\n",
      "Prob(Omnibus):                  0.000   Jarque-Bera (JB):          2083239.187\n",
      "Skew:                           3.262   Prob(JB):                         0.00\n",
      "Kurtosis:                      24.671   Cond. No.                         3.93\n",
      "==============================================================================\n",
      "\n",
      "Warnings:\n",
      "[1] Standard Errors assume that the covariance matrix of the errors is correctly specified.\n"
     ]
    },
    {
     "name": "stdout",
     "output_type": "stream",
     "text": [
      "                            OLS Regression Results                            \n",
      "==============================================================================\n",
      "Dep. Variable:           Weekly_Sales   R-squared:                       0.049\n",
      "Model:                            OLS   Adj. R-squared:                  0.049\n",
      "Method:                 Least Squares   F-statistic:                     5080.\n",
      "Date:                Fri, 09 Nov 2018   Prob (F-statistic):               0.00\n",
      "Time:                        10:41:00   Log-Likelihood:            -1.1257e+06\n",
      "No. Observations:               97615   AIC:                         2.251e+06\n",
      "Df Residuals:                   97613   BIC:                         2.251e+06\n",
      "Df Model:                           1                                         \n",
      "Covariance Type:            nonrobust                                         \n",
      "===============================================================================\n",
      "                  coef    std err          t      P>|t|      [0.025      0.975]\n",
      "-------------------------------------------------------------------------------\n",
      "Intercept     1.14e+04    113.995    100.033      0.000    1.12e+04    1.16e+04\n",
      "Type_A[T.1]  1.126e+04    158.052     71.272      0.000     1.1e+04    1.16e+04\n",
      "==============================================================================\n",
      "Omnibus:                    73335.994   Durbin-Watson:                   1.198\n",
      "Prob(Omnibus):                  0.000   Jarque-Bera (JB):          2451559.407\n",
      "Skew:                           3.297   Prob(JB):                         0.00\n",
      "Kurtosis:                      26.649   Cond. No.                         2.67\n",
      "==============================================================================\n",
      "\n",
      "Warnings:\n",
      "[1] Standard Errors assume that the covariance matrix of the errors is correctly specified.\n"
     ]
    }
   ],
   "source": [
    "for i in catlist:\n",
    "    f = f'Weekly_Sales~{i}'\n",
    "    model = smf.ols(formula=f, data=df).fit()\n",
    "    print(model.summary())"
   ]
  },
  {
   "cell_type": "code",
   "execution_count": 79,
   "metadata": {},
   "outputs": [
    {
     "name": "stdout",
     "output_type": "stream",
     "text": [
      "                            OLS Regression Results                            \n",
      "==============================================================================\n",
      "Dep. Variable:                  logWS   R-squared:                       0.128\n",
      "Model:                            OLS   Adj. R-squared:                  0.128\n",
      "Method:                 Least Squares   F-statistic:                     1591.\n",
      "Date:                Fri, 09 Nov 2018   Prob (F-statistic):               0.00\n",
      "Time:                        10:41:14   Log-Likelihood:            -1.9258e+05\n",
      "No. Observations:               97615   AIC:                         3.852e+05\n",
      "Df Residuals:                   97605   BIC:                         3.853e+05\n",
      "Df Model:                           9                                         \n",
      "Covariance Type:            nonrobust                                         \n",
      "=================================================================================\n",
      "                    coef    std err          t      P>|t|      [0.025      0.975]\n",
      "---------------------------------------------------------------------------------\n",
      "Intercept         8.1670      0.019    441.138      0.000       8.131       8.203\n",
      "Store_1[T.1]      0.8717      0.025     34.489      0.000       0.822       0.921\n",
      "Store_10[T.1]     1.0649      0.025     42.165      0.000       1.015       1.114\n",
      "Store_2[T.1]      1.1722      0.025     46.365      0.000       1.123       1.222\n",
      "Store_3[T.1]     -0.4928      0.026    -18.923      0.000      -0.544      -0.442\n",
      "Store_4[T.1]      1.2261      0.025     48.556      0.000       1.177       1.276\n",
      "Store_5[T.1]     -0.5693      0.026    -21.833      0.000      -0.620      -0.518\n",
      "Store_6[T.1]      1.0678      0.025     42.213      0.000       1.018       1.117\n",
      "Store_7[T.1]     -0.1389      0.026     -5.431      0.000      -0.189      -0.089\n",
      "Store_8[T.1]      0.4945      0.025     19.411      0.000       0.445       0.544\n",
      "==============================================================================\n",
      "Omnibus:                    28899.366   Durbin-Watson:                   1.536\n",
      "Prob(Omnibus):                  0.000   Jarque-Bera (JB):           101987.299\n",
      "Skew:                          -1.476   Prob(JB):                         0.00\n",
      "Kurtosis:                       7.045   Cond. No.                         11.4\n",
      "==============================================================================\n",
      "\n",
      "Warnings:\n",
      "[1] Standard Errors assume that the covariance matrix of the errors is correctly specified.\n",
      "                            OLS Regression Results                            \n",
      "==============================================================================\n",
      "Dep. Variable:                  logWS   R-squared:                       0.624\n",
      "Model:                            OLS   Adj. R-squared:                  0.624\n",
      "Method:                 Least Squares   F-statistic:                     2074.\n",
      "Date:                Fri, 09 Nov 2018   Prob (F-statistic):               0.00\n",
      "Time:                        10:41:23   Log-Likelihood:            -1.5153e+05\n",
      "No. Observations:               97615   AIC:                         3.032e+05\n",
      "Df Residuals:                   97536   BIC:                         3.040e+05\n",
      "Df Model:                          78                                         \n",
      "Covariance Type:            nonrobust                                         \n",
      "================================================================================\n",
      "                   coef    std err          t      P>|t|      [0.025      0.975]\n",
      "--------------------------------------------------------------------------------\n",
      "Intercept        3.5250      0.082     42.947      0.000       3.364       3.686\n",
      "Dept_1[T.1]      6.1872      0.087     70.738      0.000       6.016       6.359\n",
      "Dept_10[T.1]     6.5483      0.087     74.867      0.000       6.377       6.720\n",
      "Dept_11[T.1]     6.2272      0.087     71.195      0.000       6.056       6.399\n",
      "Dept_12[T.1]     5.1626      0.087     59.024      0.000       4.991       5.334\n",
      "Dept_13[T.1]     6.7177      0.087     76.803      0.000       6.546       6.889\n",
      "Dept_14[T.1]     5.9002      0.087     67.457      0.000       5.729       6.072\n",
      "Dept_16[T.1]     5.9452      0.087     67.971      0.000       5.774       6.117\n",
      "Dept_17[T.1]     5.4518      0.087     62.330      0.000       5.280       5.623\n",
      "Dept_18[T.1]     3.2716      0.089     36.700      0.000       3.097       3.446\n",
      "Dept_19[T.1]     3.6106      0.088     40.925      0.000       3.438       3.784\n",
      "Dept_2[T.1]      7.0202      0.087     80.261      0.000       6.849       7.192\n",
      "Dept_20[T.1]     4.8027      0.087     54.909      0.000       4.631       4.974\n",
      "Dept_21[T.1]     4.8653      0.087     55.625      0.000       4.694       5.037\n",
      "Dept_22[T.1]     5.4612      0.087     62.438      0.000       5.290       5.633\n",
      "Dept_23[T.1]     6.3335      0.087     72.411      0.000       6.162       6.505\n",
      "Dept_24[T.1]     4.8686      0.087     55.663      0.000       4.697       5.040\n",
      "Dept_25[T.1]     5.4723      0.087     62.565      0.000       5.301       5.644\n",
      "Dept_26[T.1]     5.1058      0.087     58.374      0.000       4.934       5.277\n",
      "Dept_27[T.1]     3.4421      0.087     39.353      0.000       3.271       3.613\n",
      "Dept_28[T.1]     2.4321      0.087     27.806      0.000       2.261       2.604\n",
      "Dept_29[T.1]     4.6629      0.087     53.311      0.000       4.491       4.834\n",
      "Dept_3[T.1]      5.6884      0.087     65.035      0.000       5.517       5.860\n",
      "Dept_30[T.1]     4.3979      0.087     50.281      0.000       4.226       4.569\n",
      "Dept_31[T.1]     3.9783      0.087     45.483      0.000       3.807       4.150\n",
      "Dept_32[T.1]     5.2895      0.087     60.472      0.000       5.118       5.461\n",
      "Dept_33[T.1]     4.9206      0.087     56.257      0.000       4.749       5.092\n",
      "Dept_34[T.1]     5.7016      0.087     65.186      0.000       5.530       5.873\n",
      "Dept_35[T.1]     4.1091      0.087     46.977      0.000       3.938       4.281\n",
      "Dept_36[T.1]     3.4955      0.087     39.956      0.000       3.324       3.667\n",
      "Dept_37[T.1]     4.6055      0.091     50.675      0.000       4.427       4.784\n",
      "Dept_38[T.1]     7.6361      0.087     87.303      0.000       7.465       7.808\n",
      "Dept_39[T.1]    -3.1953      0.518     -6.171      0.000      -4.210      -2.180\n",
      "Dept_4[T.1]      6.5681      0.087     75.093      0.000       6.397       6.740\n",
      "Dept_40[T.1]     7.1694      0.087     81.967      0.000       6.998       7.341\n",
      "Dept_41[T.1]     3.5359      0.087     40.425      0.000       3.364       3.707\n",
      "Dept_42[T.1]     5.2128      0.087     59.598      0.000       5.041       5.384\n",
      "Dept_44[T.1]     4.7871      0.087     54.730      0.000       4.616       4.958\n",
      "Dept_45[T.1]    -0.6790      0.096     -7.066      0.000      -0.867      -0.491\n",
      "Dept_46[T.1]     6.2029      0.087     70.918      0.000       6.031       6.374\n",
      "Dept_47[T.1]     0.6717      0.140      4.804      0.000       0.398       0.946\n",
      "Dept_48[T.1]     3.5379      0.091     38.834      0.000       3.359       3.716\n",
      "Dept_49[T.1]     4.2582      0.089     47.864      0.000       4.084       4.433\n",
      "Dept_5[T.1]      6.4041      0.087     73.218      0.000       6.233       6.576\n",
      "Dept_50[T.1]     4.8240      0.126     38.286      0.000       4.577       5.071\n",
      "Dept_51[T.1]    -1.4362      0.115    -12.497      0.000      -1.661      -1.211\n",
      "Dept_52[T.1]     4.0841      0.087     46.693      0.000       3.913       4.256\n",
      "Dept_54[T.1]     0.5819      0.088      6.586      0.000       0.409       0.755\n",
      "Dept_55[T.1]     5.6058      0.087     64.091      0.000       5.434       5.777\n",
      "Dept_56[T.1]     3.9199      0.087     44.810      0.000       3.748       4.091\n",
      "Dept_58[T.1]     4.4686      0.089     50.075      0.000       4.294       4.644\n",
      "Dept_59[T.1]     2.0382      0.088     23.157      0.000       1.866       2.211\n",
      "Dept_6[T.1]      4.7478      0.087     54.277      0.000       4.576       4.919\n",
      "Dept_60[T.1]     1.9082      0.088     21.688      0.000       1.736       2.081\n",
      "Dept_67[T.1]     5.1331      0.087     58.687      0.000       4.962       5.305\n",
      "Dept_7[T.1]      6.3196      0.087     72.252      0.000       6.148       6.491\n",
      "Dept_71[T.1]     4.3701      0.087     49.963      0.000       4.199       4.542\n",
      "Dept_72[T.1]     7.1710      0.087     81.986      0.000       7.000       7.342\n",
      "Dept_74[T.1]     5.7770      0.087     66.048      0.000       5.606       5.948\n",
      "Dept_77[T.1]     2.3249      0.239      9.738      0.000       1.857       2.793\n",
      "Dept_78[T.1]    -1.4447      0.191     -7.568      0.000      -1.819      -1.071\n",
      "Dept_79[T.1]     6.2467      0.087     71.418      0.000       6.075       6.418\n",
      "Dept_8[T.1]      6.7632      0.087     77.324      0.000       6.592       6.935\n",
      "Dept_80[T.1]     4.7921      0.089     53.555      0.000       4.617       4.967\n",
      "Dept_81[T.1]     5.5694      0.087     63.674      0.000       5.398       5.741\n",
      "Dept_82[T.1]     5.9775      0.087     68.341      0.000       5.806       6.149\n",
      "Dept_83[T.1]     4.2251      0.090     47.107      0.000       4.049       4.401\n",
      "Dept_85[T.1]     4.0244      0.087     46.011      0.000       3.853       4.196\n",
      "Dept_87[T.1]     6.0459      0.087     69.123      0.000       5.875       6.217\n",
      "Dept_9[T.1]      6.4500      0.087     73.742      0.000       6.279       6.621\n",
      "Dept_90[T.1]     6.2765      0.087     71.758      0.000       6.105       6.448\n",
      "Dept_91[T.1]     5.7453      0.087     65.685      0.000       5.574       5.917\n",
      "Dept_92[T.1]     7.1416      0.087     81.649      0.000       6.970       7.313\n",
      "Dept_93[T.1]     6.2598      0.090     69.815      0.000       6.084       6.436\n",
      "Dept_94[T.1]     5.0519      0.089     56.819      0.000       4.878       5.226\n",
      "Dept_95[T.1]     7.4049      0.087     84.660      0.000       7.234       7.576\n",
      "Dept_96[T.1]     5.6446      0.088     64.051      0.000       5.472       5.817\n",
      "Dept_97[T.1]     5.4253      0.088     61.585      0.000       5.253       5.598\n",
      "Dept_98[T.1]     4.2413      0.089     47.411      0.000       4.066       4.417\n",
      "==============================================================================\n",
      "Omnibus:                    33292.658   Durbin-Watson:                   0.998\n",
      "Prob(Omnibus):                  0.000   Jarque-Bera (JB):           249099.253\n",
      "Skew:                          -1.444   Prob(JB):                         0.00\n",
      "Kurtosis:                      10.274   Cond. No.                         202.\n",
      "==============================================================================\n",
      "\n",
      "Warnings:\n",
      "[1] Standard Errors assume that the covariance matrix of the errors is correctly specified.\n",
      "                            OLS Regression Results                            \n",
      "==============================================================================\n",
      "Dep. Variable:                  logWS   R-squared:                       0.000\n",
      "Model:                            OLS   Adj. R-squared:                  0.000\n",
      "Method:                 Least Squares   F-statistic:                     9.748\n",
      "Date:                Fri, 09 Nov 2018   Prob (F-statistic):            0.00180\n",
      "Time:                        10:41:23   Log-Likelihood:            -1.9925e+05\n",
      "No. Observations:               97615   AIC:                         3.985e+05\n",
      "Df Residuals:                   97613   BIC:                         3.985e+05\n",
      "Df Model:                           1                                         \n",
      "Covariance Type:            nonrobust                                         \n",
      "=====================================================================================\n",
      "                        coef    std err          t      P>|t|      [0.025      0.975]\n",
      "-------------------------------------------------------------------------------------\n",
      "Intercept             8.6665      0.006   1401.125      0.000       8.654       8.679\n",
      "IsHoliday[T.True]     0.0727      0.023      3.122      0.002       0.027       0.118\n",
      "==============================================================================\n",
      "Omnibus:                    21883.886   Durbin-Watson:                   1.340\n",
      "Prob(Omnibus):                  0.000   Jarque-Bera (JB):            56621.948\n",
      "Skew:                          -1.220   Prob(JB):                         0.00\n",
      "Kurtosis:                       5.822   Cond. No.                         3.93\n",
      "==============================================================================\n",
      "\n",
      "Warnings:\n",
      "[1] Standard Errors assume that the covariance matrix of the errors is correctly specified.\n"
     ]
    },
    {
     "name": "stdout",
     "output_type": "stream",
     "text": [
      "                            OLS Regression Results                            \n",
      "==============================================================================\n",
      "Dep. Variable:                  logWS   R-squared:                       0.068\n",
      "Model:                            OLS   Adj. R-squared:                  0.068\n",
      "Method:                 Least Squares   F-statistic:                     7074.\n",
      "Date:                Fri, 09 Nov 2018   Prob (F-statistic):               0.00\n",
      "Time:                        10:41:23   Log-Likelihood:            -1.9584e+05\n",
      "No. Observations:               97615   AIC:                         3.917e+05\n",
      "Df Residuals:                   97613   BIC:                         3.917e+05\n",
      "Df Model:                           1                                         \n",
      "Covariance Type:            nonrobust                                         \n",
      "===============================================================================\n",
      "                  coef    std err          t      P>|t|      [0.025      0.975]\n",
      "-------------------------------------------------------------------------------\n",
      "Intercept       8.1673      0.008    982.410      0.000       8.151       8.184\n",
      "Type_A[T.1]     0.9695      0.012     84.106      0.000       0.947       0.992\n",
      "==============================================================================\n",
      "Omnibus:                    24208.178   Durbin-Watson:                   1.437\n",
      "Prob(Omnibus):                  0.000   Jarque-Bera (JB):            73067.927\n",
      "Skew:                          -1.285   Prob(JB):                         0.00\n",
      "Kurtosis:                       6.371   Cond. No.                         2.67\n",
      "==============================================================================\n",
      "\n",
      "Warnings:\n",
      "[1] Standard Errors assume that the covariance matrix of the errors is correctly specified.\n"
     ]
    }
   ],
   "source": [
    "for i in catlist:\n",
    "    f = f'logWS~{i}'\n",
    "    model = smf.ols(formula=f, data=df).fit()\n",
    "    print(model.summary())"
   ]
  },
  {
   "cell_type": "markdown",
   "metadata": {},
   "source": [
    "### Let's drop a few columns in our data set based on our findings"
   ]
  },
  {
   "cell_type": "markdown",
   "metadata": {},
   "source": [
    "- Let's stick with our `walmart_log` data, as it seemed like it was generally resulting in higher R-squared values.\n",
    "- Let's drop continuous variables which resulted in single linear models with a R-squared value <0.01 for the `walmart_log models`.\n",
    "- Let's make sure to drop 1 column for each categorical variable we end up using."
   ]
  },
  {
   "cell_type": "code",
   "execution_count": 115,
   "metadata": {},
   "outputs": [],
   "source": [
    "df2 = df[['logWS','Size', 'CPI']].join(df[storelist]).join(df[deptlist]).join(df[typelist])"
   ]
  },
  {
   "cell_type": "markdown",
   "metadata": {},
   "source": [
    "## From here on out, use Feature ranking with recursive feature elimination"
   ]
  },
  {
   "cell_type": "markdown",
   "metadata": {},
   "source": [
    "Let's create a matrix X and y containing the predictors and target for our model. Let's use Scikit-Learn's RFE function, documentation again [here](http://scikit-learn.org/stable/modules/classes.html#module-sklearn.feature_selection)."
   ]
  },
  {
   "cell_type": "code",
   "execution_count": 123,
   "metadata": {},
   "outputs": [],
   "source": [
    "from sklearn.feature_selection import RFE\n",
    "from sklearn.linear_model import LinearRegression\n",
    "\n",
    "X = df2.drop(columns=['logWS'])\n",
    "y = df2['logWS']"
   ]
  },
  {
   "cell_type": "markdown",
   "metadata": {},
   "source": [
    "Let's create a for loop using `RFE` where we look at the 5, 15, 25,... up until 85 best features to be selected according to the feature ranking algorithm. Store the R-squared and the adjusted-R-squareds for all these models in a list. What do you see? No need to perform a train-test-split for now- that will be next!"
   ]
  },
  {
   "cell_type": "code",
   "execution_count": 127,
   "metadata": {},
   "outputs": [],
   "source": [
    "linreg = LinearRegression()\n",
    "rs = []\n",
    "rsa = []\n",
    "for i in range(5,90,5):\n",
    "    selector = RFE(linreg, n_features_to_select = i)\n",
    "    selector = selector.fit(X,y)\n",
    "    \n",
    "    x = X.columns[selector.support_]\n",
    "    linreg.fit(X[x],y)\n",
    "    yh = linreg.predict(X[x])\n",
    "    \n",
    "    ssr = ((y - yh)**2).sum()\n",
    "    sst = ((y - y.mean())**2).sum()\n",
    "    \n",
    "    rsquared = 1 - (ssr/sst)\n",
    "    rsquareda = 1 - ((1 - rsquared) * ((len(y)-1)/(len(y) - len(X.columns) -  1)))\n",
    "    \n",
    "    rs.append(rsquared)\n",
    "    rsa.append(rsquareda)"
   ]
  },
  {
   "cell_type": "code",
   "execution_count": 128,
   "metadata": {},
   "outputs": [
    {
     "name": "stdout",
     "output_type": "stream",
     "text": [
      "[0.07796309689788572, 0.12790350916992688, 0.19910922427332645, 0.2873028396339208, 0.3477031547636307, 0.4040803821037344, 0.4549805474033627, 0.4968236747567707, 0.5385921669371935, 0.576634299717304, 0.6085861046323149, 0.6433570917788181, 0.661651284284864, 0.6822567185208593, 0.7109624229130962, 0.7498889745966874, 0.771544046617631]\n",
      "[0.07711219536309233, 0.12709869513261596, 0.19837012241311358, 0.2866451272304822, 0.347101182776517, 0.4035304378273443, 0.45447757633230634, 0.49635931860575255, 0.5381663568291621, 0.5762435967823809, 0.608224888412891, 0.6430279639565394, 0.6613390392537499, 0.6819634892097859, 0.7106956846544334, 0.7496581596969059, 0.771333216095868]\n"
     ]
    }
   ],
   "source": [
    "print(rs)\n",
    "print(rsa)"
   ]
  },
  {
   "cell_type": "markdown",
   "metadata": {},
   "source": [
    "The difference between $R^2$ and adjusted $R^2$ is negligible, and seems to continue to be going up as we include more features. Remember though that we're likely overfitting when including 85 features. In order to identify this, let's rerun a similar experiment, but using a train test split!"
   ]
  },
  {
   "cell_type": "markdown",
   "metadata": {},
   "source": [
    "## Including a train-test-split"
   ]
  },
  {
   "cell_type": "markdown",
   "metadata": {},
   "source": [
    "Let's create a similar for loop to what we did before. Except, this time\n",
    "- Use a train test split of 20-80\n",
    "- Instead of looking at $R^2$ and $R^2_{adj}$, look at the MSE for train and test"
   ]
  },
  {
   "cell_type": "code",
   "execution_count": 129,
   "metadata": {},
   "outputs": [],
   "source": [
    "from sklearn.model_selection import train_test_split\n",
    "\n",
    "msetr = []\n",
    "msete = []\n",
    "for i in range(20,85,5):\n",
    "    X_train, X_test, y_train, y_test = train_test_split(X, y, test_size = i/100)\n",
    "    linreg.fit(X_train, y_train)\n",
    "\n",
    "    y_hat_train = linreg.predict(X_train)\n",
    "    y_hat_test = linreg.predict(X_test)\n",
    "    \n",
    "    train_residuals = y_hat_train - y_train\n",
    "    test_residuals = y_hat_test - y_test\n",
    "\n",
    "    mse_train = np.sum((y_train-y_hat_train)**2)/len(y_train)\n",
    "    mse_test =np.sum((y_test-y_hat_test)**2)/len(y_test)\n",
    "    \n",
    "    msetr.append(mse_train)\n",
    "    msete.append(mse_test)"
   ]
  },
  {
   "cell_type": "code",
   "execution_count": 132,
   "metadata": {},
   "outputs": [
    {
     "name": "stdout",
     "output_type": "stream",
     "text": [
      "[0.7723736790180228, 0.7958756667553754, 0.7884451350555863, 0.7925713973300187, 0.7800523433492161, 0.7972908841199041, 0.7900959487315843, 0.7800950463047205, 0.7594842814268421, 0.765545612737323, 0.7811760827926362, 0.7848473158658, 0.7841084570479908]\n",
      "[0.8172409223817666, 0.7386189569259685, 0.765048473125028, 0.761691855176596, 0.7845942164501479, 0.762914620041261, 0.7735093789618755, 0.7845654992069673, 0.797289849644308, 0.792818410565254, 0.7828929570506443, 0.7828797725645523, 1.3478119807921072e+20]\n"
     ]
    }
   ],
   "source": [
    "print(msetr)\n",
    "print(msete)"
   ]
  },
  {
   "cell_type": "markdown",
   "metadata": {},
   "source": [
    "What we see is that both MSE keeps improving when we add variables. It seems like a bigger model improves our performance, and the test and train performance don't really diverge. It is important to note however that is not an unusual result. The performance measures used typically will show this type of behavior. In order to really be able to balance the curse of dimensionality (which will become more important in machine learning), we need other information criteria such as AIC and BIC. You'll learn about them later! Now, let's perform cross-validation on our model with 85 predictors!"
   ]
  },
  {
   "cell_type": "markdown",
   "metadata": {},
   "source": [
    "## 10-fold cross validation with the final model"
   ]
  },
  {
   "cell_type": "markdown",
   "metadata": {},
   "source": [
    "Create a 10-fold cross-validation and store the (negative) MSEs "
   ]
  },
  {
   "cell_type": "code",
   "execution_count": 136,
   "metadata": {},
   "outputs": [],
   "source": [
    "from sklearn.metrics import mean_squared_error\n",
    "from sklearn.model_selection import cross_val_score\n",
    "\n",
    "cv_10f = cross_val_score(linreg, X, y, cv=10, scoring=\"neg_mean_squared_error\")"
   ]
  },
  {
   "cell_type": "code",
   "execution_count": 137,
   "metadata": {},
   "outputs": [
    {
     "data": {
      "text/plain": [
       "array([-7.88547847e-01, -7.23357953e-01, -1.07318106e+00, -7.15509004e-01,\n",
       "       -2.39400973e+23, -5.57862504e-01, -1.06933505e+00, -6.12754255e-01,\n",
       "       -3.08679598e+21, -1.61480888e+00])"
      ]
     },
     "execution_count": 137,
     "metadata": {},
     "output_type": "execute_result"
    }
   ],
   "source": [
    "cv_10f"
   ]
  },
  {
   "cell_type": "markdown",
   "metadata": {},
   "source": [
    "Running our 10-fold cross-validation highlights some issues for sure! Have a look at your list of 10 MSEs. Where most MSEs are manageable, some are very high. The cure of dimensionality is already pretty clear here. The issue is that we have many (dummy) categorical variables that result in columns with many zeroes and few ones. This means that for some folds, there is a risk of ending up with columns that almost exclusively contain 0's for prediction, which might cause weird results. Looking at this, a model with less predictors might make sense again. This is where we conclude for now. It's up to you now to explore other model options! Additionally, it is encouraged to try some of the \"level up\" exercises below. Good luck!"
   ]
  },
  {
   "cell_type": "markdown",
   "metadata": {},
   "source": [
    "# Level up - Optional\n",
    "\n",
    "\n",
    "- You could argue that **throwing out negative sales figures is problematic**, because these are probably the types of observations a stakeholder would be very interested in knowing. Repeat your analysis, but now, instead of removing the rows with negative sales, replace their sales with a slightly positive value (eg. 1), so they have an existing and finite value. Does the result change?\n",
    "\n",
    "Modeling with negatives replaced with +1 yielded nearly identical results. Since there were only 224 in 97839 that were negative values, it was not expected to significantly change the results.\n",
    "\n",
    "- Go back and log-transform `CPI` and `Size` before standardizing it (we did this a few lessons ago). Look at the histogram and see if there is an improvement.\n",
    "\n",
    "No improvements were seen by performing a log-transform on CPI and Size before standardizing it.\n",
    "\n",
    "- You might have noticed we ignored `binned_markdown` throughout. Add it in the model and see how it changes the results!\n",
    "\n",
    "- Try other feature selection methods such as stepwise selection and forward selection seen in section 11.\n"
   ]
  },
  {
   "cell_type": "code",
   "execution_count": 150,
   "metadata": {},
   "outputs": [],
   "source": [
    "df3 = pd.read_csv('walmart_dataset_cleaned.csv')"
   ]
  },
  {
   "cell_type": "code",
   "execution_count": 168,
   "metadata": {},
   "outputs": [],
   "source": [
    "df3.Weekly_Sales.replace(df3.Weekly_Sales.loc[df3.Weekly_Sales <= 0], 1, inplace=True)"
   ]
  },
  {
   "cell_type": "code",
   "execution_count": 169,
   "metadata": {},
   "outputs": [
    {
     "name": "stdout",
     "output_type": "stream",
     "text": [
      "                            OLS Regression Results                            \n",
      "==============================================================================\n",
      "Dep. Variable:                 logWS3   R-squared:                       0.103\n",
      "Model:                            OLS   Adj. R-squared:                  0.103\n",
      "Method:                 Least Squares   F-statistic:                 1.125e+04\n",
      "Date:                Fri, 09 Nov 2018   Prob (F-statistic):               0.00\n",
      "Time:                        13:04:25   Log-Likelihood:            -1.9665e+05\n",
      "No. Observations:               97839   AIC:                         3.933e+05\n",
      "Df Residuals:                   97837   BIC:                         3.933e+05\n",
      "Df Model:                           1                                         \n",
      "Covariance Type:            nonrobust                                         \n",
      "==============================================================================\n",
      "                 coef    std err          t      P>|t|      [0.025      0.975]\n",
      "------------------------------------------------------------------------------\n",
      "Intercept      8.6517      0.006   1498.673      0.000       8.640       8.663\n",
      "Size           0.6122      0.006    106.047      0.000       0.601       0.624\n",
      "==============================================================================\n",
      "Omnibus:                    29874.736   Durbin-Watson:                   1.521\n",
      "Prob(Omnibus):                  0.000   Jarque-Bera (JB):           110518.634\n",
      "Skew:                          -1.507   Prob(JB):                         0.00\n",
      "Kurtosis:                       7.246   Cond. No.                         1.00\n",
      "==============================================================================\n",
      "\n",
      "Warnings:\n",
      "[1] Standard Errors assume that the covariance matrix of the errors is correctly specified.\n",
      "                            OLS Regression Results                            \n",
      "==============================================================================\n",
      "Dep. Variable:                 logWS3   R-squared:                       0.001\n",
      "Model:                            OLS   Adj. R-squared:                  0.001\n",
      "Method:                 Least Squares   F-statistic:                     70.94\n",
      "Date:                Fri, 09 Nov 2018   Prob (F-statistic):           3.73e-17\n",
      "Time:                        13:04:25   Log-Likelihood:            -2.0193e+05\n",
      "No. Observations:               97839   AIC:                         4.039e+05\n",
      "Df Residuals:                   97837   BIC:                         4.039e+05\n",
      "Df Model:                           1                                         \n",
      "Covariance Type:            nonrobust                                         \n",
      "===============================================================================\n",
      "                  coef    std err          t      P>|t|      [0.025      0.975]\n",
      "-------------------------------------------------------------------------------\n",
      "Intercept       8.6517      0.006   1419.834      0.000       8.640       8.664\n",
      "Temperature     0.0513      0.006      8.423      0.000       0.039       0.063\n",
      "==============================================================================\n",
      "Omnibus:                    24677.679   Durbin-Watson:                   1.365\n",
      "Prob(Omnibus):                  0.000   Jarque-Bera (JB):            71420.413\n",
      "Skew:                          -1.323   Prob(JB):                         0.00\n",
      "Kurtosis:                       6.242   Cond. No.                         1.00\n",
      "==============================================================================\n",
      "\n",
      "Warnings:\n",
      "[1] Standard Errors assume that the covariance matrix of the errors is correctly specified.\n",
      "                            OLS Regression Results                            \n",
      "==============================================================================\n",
      "Dep. Variable:                 logWS3   R-squared:                       0.000\n",
      "Model:                            OLS   Adj. R-squared:                  0.000\n",
      "Method:                 Least Squares   F-statistic:                     36.89\n",
      "Date:                Fri, 09 Nov 2018   Prob (F-statistic):           1.25e-09\n",
      "Time:                        13:04:26   Log-Likelihood:            -2.0195e+05\n",
      "No. Observations:               97839   AIC:                         4.039e+05\n",
      "Df Residuals:                   97837   BIC:                         4.039e+05\n",
      "Df Model:                           1                                         \n",
      "Covariance Type:            nonrobust                                         \n",
      "==============================================================================\n",
      "                 coef    std err          t      P>|t|      [0.025      0.975]\n",
      "------------------------------------------------------------------------------\n",
      "Intercept      8.6517      0.006   1419.587      0.000       8.640       8.664\n",
      "Fuel_Price     0.0370      0.006      6.074      0.000       0.025       0.049\n",
      "==============================================================================\n",
      "Omnibus:                    24643.399   Durbin-Watson:                   1.365\n",
      "Prob(Omnibus):                  0.000   Jarque-Bera (JB):            71139.978\n",
      "Skew:                          -1.323   Prob(JB):                         0.00\n",
      "Kurtosis:                       6.233   Cond. No.                         1.00\n",
      "==============================================================================\n",
      "\n",
      "Warnings:\n",
      "[1] Standard Errors assume that the covariance matrix of the errors is correctly specified.\n",
      "                            OLS Regression Results                            \n",
      "==============================================================================\n",
      "Dep. Variable:                 logWS3   R-squared:                       0.024\n",
      "Model:                            OLS   Adj. R-squared:                  0.024\n",
      "Method:                 Least Squares   F-statistic:                     2424.\n",
      "Date:                Fri, 09 Nov 2018   Prob (F-statistic):               0.00\n",
      "Time:                        13:04:26   Log-Likelihood:            -2.0077e+05\n",
      "No. Observations:               97839   AIC:                         4.015e+05\n",
      "Df Residuals:                   97837   BIC:                         4.016e+05\n",
      "Df Model:                           1                                         \n",
      "Covariance Type:            nonrobust                                         \n",
      "==============================================================================\n",
      "                 coef    std err          t      P>|t|      [0.025      0.975]\n",
      "------------------------------------------------------------------------------\n",
      "Intercept      8.6517      0.006   1436.797      0.000       8.640       8.664\n",
      "CPI           -0.2965      0.006    -49.238      0.000      -0.308      -0.285\n",
      "==============================================================================\n",
      "Omnibus:                    26274.896   Durbin-Watson:                   1.398\n",
      "Prob(Omnibus):                  0.000   Jarque-Bera (JB):            81318.287\n",
      "Skew:                          -1.383   Prob(JB):                         0.00\n",
      "Kurtosis:                       6.507   Cond. No.                         1.00\n",
      "==============================================================================\n",
      "\n",
      "Warnings:\n",
      "[1] Standard Errors assume that the covariance matrix of the errors is correctly specified.\n",
      "                            OLS Regression Results                            \n",
      "==============================================================================\n",
      "Dep. Variable:                 logWS3   R-squared:                       0.000\n",
      "Model:                            OLS   Adj. R-squared:                  0.000\n",
      "Method:                 Least Squares   F-statistic:                     18.20\n",
      "Date:                Fri, 09 Nov 2018   Prob (F-statistic):           1.99e-05\n",
      "Time:                        13:04:26   Log-Likelihood:            -2.0196e+05\n",
      "No. Observations:               97839   AIC:                         4.039e+05\n",
      "Df Residuals:                   97837   BIC:                         4.039e+05\n",
      "Df Model:                           1                                         \n",
      "Covariance Type:            nonrobust                                         \n",
      "================================================================================\n",
      "                   coef    std err          t      P>|t|      [0.025      0.975]\n",
      "--------------------------------------------------------------------------------\n",
      "Intercept        8.6517      0.006   1419.451      0.000       8.640       8.664\n",
      "Unemployment     0.0260      0.006      4.266      0.000       0.014       0.038\n",
      "==============================================================================\n",
      "Omnibus:                    24628.698   Durbin-Watson:                   1.365\n",
      "Prob(Omnibus):                  0.000   Jarque-Bera (JB):            71005.775\n",
      "Skew:                          -1.322   Prob(JB):                         0.00\n",
      "Kurtosis:                       6.229   Cond. No.                         1.00\n",
      "==============================================================================\n",
      "\n",
      "Warnings:\n",
      "[1] Standard Errors assume that the covariance matrix of the errors is correctly specified.\n"
     ]
    }
   ],
   "source": [
    "logWS3 = np.log(df3.Weekly_Sales)\n",
    "\n",
    "df3['logWS'] = logWS3\n",
    "for i in clist:\n",
    "    f = f'logWS3~{i}'\n",
    "    \n",
    "    model3 = smf.ols(formula=f, data=df3).fit()\n",
    "    \n",
    "    x = i+'_olslog3'\n",
    "    vars()[x] = pd.Series(['logWeekly_Sales', model3.rsquared, model3.params[0], model3.params[1], model3.pvalues[1]],\n",
    "                        ['Target variable', 'R_squared', 'intercept', 'slope', 'p-value'])\n",
    "    print(model3.summary())"
   ]
  },
  {
   "cell_type": "markdown",
   "metadata": {},
   "source": [
    "## Summary"
   ]
  },
  {
   "cell_type": "markdown",
   "metadata": {},
   "source": [
    "Congratulations, you made it to the end of the last section in this module. Now it's time for a big project on multiple linear regression!"
   ]
  }
 ],
 "metadata": {
  "kernelspec": {
   "display_name": "Python 3",
   "language": "python",
   "name": "python3"
  },
  "language_info": {
   "codemirror_mode": {
    "name": "ipython",
    "version": 3
   },
   "file_extension": ".py",
   "mimetype": "text/x-python",
   "name": "python",
   "nbconvert_exporter": "python",
   "pygments_lexer": "ipython3",
   "version": "3.6.6"
  }
 },
 "nbformat": 4,
 "nbformat_minor": 2
}
